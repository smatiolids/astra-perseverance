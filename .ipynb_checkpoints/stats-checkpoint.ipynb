{
 "cells": [
  {
   "cell_type": "code",
   "execution_count": null,
   "id": "8d7c93dd",
   "metadata": {},
   "outputs": [],
   "source": [
    "import json\n",
    "f = open('./nodes/node_rw.json')\n",
    "data = json.load(f)\n",
    "f.close()\n",
    "data\n",
    "\n",
    "# Function to flatten the nested dictionary\n",
    "items = []\n",
    "for node, node_val in data.items():\n",
    "    for ks, ks_val in node_val.items():\n",
    "        for tb, tb_val in ks_val.items():\n",
    "            if 'read_count' in tb_val or 'write_count' in tb_val:\n",
    "                items.append({'node': node, 'ks': ks, 'tb': tb, **tb_val})\n",
    "\n",
    "#print(items)\n",
    "        \n",
    "    \n",
    "\n",
    "df = pd.DataFrame(items)\n",
    "\n",
    "df.head(100)"
   ]
  },
  {
   "cell_type": "code",
   "execution_count": null,
   "id": "cd96f7dc",
   "metadata": {},
   "outputs": [],
   "source": [
    "df[['read_tps','write_tps']].sum()"
   ]
  },
  {
   "cell_type": "code",
   "execution_count": null,
   "id": "cc985974",
   "metadata": {},
   "outputs": [],
   "source": [
    "f = open('./nodes/node_status_data.json')\n",
    "nodes_data = json.load(f)\n",
    "f.close()\n",
    "\n",
    "# Function to flatten the nested dictionary\n",
    "nodes = []\n",
    "for dc, dc_val in nodes_data.items():\n",
    "    for node, node_val in dc_val.items():\n",
    "        nodes.append({'dc': dc, 'node': node, **node_val})\n",
    "    \n",
    "\n",
    "df_nodes = pd.DataFrame(nodes)\n",
    "\n",
    "df_nodes.head(100)"
   ]
  },
  {
   "cell_type": "code",
   "execution_count": null,
   "id": "1ae0c251",
   "metadata": {},
   "outputs": [],
   "source": [
    "result_df = pd.merge(df, df_nodes, on='node', how='left')\n",
    "result_df"
   ]
  },
  {
   "cell_type": "code",
   "execution_count": null,
   "id": "bda20f1e",
   "metadata": {},
   "outputs": [],
   "source": [
    "dc_df = result_df.groupby('dc')[['read_tps','write_tps']].sum().reset_index()\n",
    "dc_df"
   ]
  },
  {
   "cell_type": "code",
   "execution_count": null,
   "id": "464c409a",
   "metadata": {},
   "outputs": [],
   "source": [
    "result_df[['read_tps','write_tps']].sum().reset_index()\n"
   ]
  },
  {
   "cell_type": "code",
   "execution_count": null,
   "id": "f5416335",
   "metadata": {},
   "outputs": [],
   "source": []
  }
 ],
 "metadata": {
  "kernelspec": {
   "display_name": "Python 3 (ipykernel)",
   "language": "python",
   "name": "python3"
  },
  "language_info": {
   "codemirror_mode": {
    "name": "ipython",
    "version": 3
   },
   "file_extension": ".py",
   "mimetype": "text/x-python",
   "name": "python",
   "nbconvert_exporter": "python",
   "pygments_lexer": "ipython3",
   "version": "3.9.4"
  }
 },
 "nbformat": 4,
 "nbformat_minor": 5
}
